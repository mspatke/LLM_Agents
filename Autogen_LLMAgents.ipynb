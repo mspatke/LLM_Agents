{
  "nbformat": 4,
  "nbformat_minor": 0,
  "metadata": {
    "colab": {
      "provenance": [],
      "gpuType": "T4",
      "authorship_tag": "ABX9TyMxsAY5E9CrF73sFHKrCf6t",
      "include_colab_link": true
    },
    "kernelspec": {
      "name": "python3",
      "display_name": "Python 3"
    },
    "language_info": {
      "name": "python"
    },
    "accelerator": "GPU"
  },
  "cells": [
    {
      "cell_type": "markdown",
      "metadata": {
        "id": "view-in-github",
        "colab_type": "text"
      },
      "source": [
        "<a href=\"https://colab.research.google.com/github/mspatke/LLM_Agents/blob/main/Autogen_LLMAgents.ipynb\" target=\"_parent\"><img src=\"https://colab.research.google.com/assets/colab-badge.svg\" alt=\"Open In Colab\"/></a>"
      ]
    },
    {
      "cell_type": "code",
      "execution_count": 10,
      "metadata": {
        "id": "fYVXDpyrgFPW"
      },
      "outputs": [],
      "source": [
        "# !pip install pyautogen"
      ]
    },
    {
      "cell_type": "markdown",
      "source": [
        "## Agents"
      ],
      "metadata": {
        "id": "InPyr7MUkOHJ"
      }
    },
    {
      "cell_type": "code",
      "source": [
        "from google.colab import userdata\n",
        "from autogen import ConversableAgent"
      ],
      "metadata": {
        "id": "iOZz8CF5iijq"
      },
      "execution_count": 11,
      "outputs": []
    },
    {
      "cell_type": "code",
      "source": [
        "llm_config= {\n",
        "    \"model\": \"gpt-3.5-turbo\",\n",
        "    \"temperature\": 0.7,\n",
        "    \"max_tokens\": 150,\n",
        "    \"api_key\":userdata.get(\"OPENAI_API_KEY\")\n",
        "}"
      ],
      "metadata": {
        "id": "Q8WEaowukbho"
      },
      "execution_count": 12,
      "outputs": []
    },
    {
      "cell_type": "code",
      "source": [
        "audience_agent = ConversableAgent(\n",
        "                        llm_config = llm_config,\n",
        "                        name= 'audience',\n",
        "                        is_termination_msg= lambda msg: 'HAHA' in msg['content'].upper(),\n",
        "                        system_message='You are a member of the audience of comedy show that hard to impress')"
      ],
      "metadata": {
        "id": "MU97kKawkvYI"
      },
      "execution_count": 13,
      "outputs": []
    },
    {
      "cell_type": "code",
      "source": [
        "comedian = ConversableAgent(\n",
        "    name = \"comedian\",\n",
        "    llm_config = llm_config,\n",
        "    max_consecutive_auto_reply=2,\n",
        "    system_message = 'You are a comedian that tells bad jokes.'\n",
        ")\n",
        ""
      ],
      "metadata": {
        "id": "OV5OvoTblTLU"
      },
      "execution_count": 14,
      "outputs": []
    },
    {
      "cell_type": "code",
      "source": [
        "comedian.initiate_chat(\n",
        "    audience_agent,\n",
        "    message=\"Welcome to my standup comedy show! Are you ready for a night full of laughter?\",\n",
        "    max_turns = 2\n",
        ")"
      ],
      "metadata": {
        "colab": {
          "base_uri": "https://localhost:8080/"
        },
        "id": "IvNgrXtUldW3",
        "outputId": "ecfc70f7-0379-463b-d711-af442d99dc22"
      },
      "execution_count": 15,
      "outputs": [
        {
          "output_type": "stream",
          "name": "stdout",
          "text": [
            "comedian (to audience):\n",
            "\n",
            "Welcome to my standup comedy show! Are you ready for a night full of laughter?\n",
            "\n",
            "--------------------------------------------------------------------------------\n",
            "\n",
            ">>>>>>>> USING AUTO REPLY...\n",
            "audience (to comedian):\n",
            "\n",
            "Sure, I'm ready! Impress me with your jokes.\n",
            "\n",
            "--------------------------------------------------------------------------------\n",
            "\n",
            ">>>>>>>> USING AUTO REPLY...\n",
            "comedian (to audience):\n",
            "\n",
            "Why did the tomato turn red? Because it saw the salad dressing!\n",
            "\n",
            "--------------------------------------------------------------------------------\n",
            "\n",
            ">>>>>>>> USING AUTO REPLY...\n",
            "audience (to comedian):\n",
            "\n",
            "Haha, that's a classic one! Do you have any more jokes up your sleeve to keep the laughter going?\n",
            "\n",
            "--------------------------------------------------------------------------------\n"
          ]
        },
        {
          "output_type": "execute_result",
          "data": {
            "text/plain": [
              "ChatResult(chat_id=None, chat_history=[{'content': 'Welcome to my standup comedy show! Are you ready for a night full of laughter?', 'role': 'assistant'}, {'content': \"Sure, I'm ready! Impress me with your jokes.\", 'role': 'user'}, {'content': 'Why did the tomato turn red? Because it saw the salad dressing!', 'role': 'assistant'}, {'content': \"Haha, that's a classic one! Do you have any more jokes up your sleeve to keep the laughter going?\", 'role': 'user'}], summary=\"Haha, that's a classic one! Do you have any more jokes up your sleeve to keep the laughter going?\", cost={'usage_including_cached_inference': {'total_cost': 0.000162, 'gpt-3.5-turbo-0125': {'cost': 0.000162, 'prompt_tokens': 174, 'completion_tokens': 50, 'total_tokens': 224}}, 'usage_excluding_cached_inference': {'total_cost': 0.000162, 'gpt-3.5-turbo-0125': {'cost': 0.000162, 'prompt_tokens': 174, 'completion_tokens': 50, 'total_tokens': 224}}}, human_input=[])"
            ]
          },
          "metadata": {},
          "execution_count": 15
        }
      ]
    },
    {
      "cell_type": "code",
      "source": [],
      "metadata": {
        "id": "EGsDeV2blfG1"
      },
      "execution_count": 15,
      "outputs": []
    }
  ]
}